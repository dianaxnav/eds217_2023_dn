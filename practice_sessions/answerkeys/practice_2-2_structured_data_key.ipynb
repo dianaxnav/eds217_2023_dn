{
 "cells": [
  {
   "cell_type": "markdown",
   "metadata": {
    "slideshow": {
     "slide_type": "slide"
    }
   },
   "source": [
    "# Practice 2-2: Structured Data in Python"
   ]
  },
  {
   "cell_type": "markdown",
   "metadata": {},
   "source": [
    "## 📚  <b> Practice 1. </b> \n",
    "\n",
    "Dictionaries are an extremely common data structure. Often data is easiest to store according to keys, where each row of data has a unique key. \n",
    "\n",
    "For example, a dictionary of students might have a key for each student's name or id, and then a set of values that are associated with that student.\n",
    "\n",
    "### Make a dictionary of your peers.\n",
    "\n",
    "Come up with 3-4 questions and ask 5-6 of your peers to give answers to each one. The questions can be anything you want, but they should be questions that can be answered with a single word or number.\n",
    "\n",
    "For example, you might ask:\n",
    "- What is your favorite color? (pretty weak question)\n",
    "- How many siblings do you have? (ok, but not great)\n",
    "- What is your favorite genre of film? (better)\n",
    "- On a scale of 1-10, how well do you feel that you understand python dictionaries? (better still)\n",
    "\n",
    "Make sure you have a key for each person, and then a set of values for each question. \n",
    "\n",
    "Based on each person's responses, build a dictionary in the cell below:\n",
    "\n",
    "(note: You will end up with a dictionary of dictionaries)\n",
    "\n",
    "```python\n",
    "# Example:\n",
    "my_dict = {\n",
    "    'person1': {\n",
    "        'question1': 'answer1',\n",
    "        'question2': 'answer2',\n",
    "        'question3': 'answer3',\n",
    "        'question4': 'answer4',\n",
    "    },\n",
    "    'person2': {\n",
    "        'question1': 'answer1',\n",
    "        'question2': 'answer2',\n",
    "        'question3': 'answer3',\n",
    "        'question4': 'answer4',\n",
    "    },\n",
    "    'person3': {\n",
    "        'question1': 'answer1',\n",
    "        'question2': 'answer2',\n",
    "        'question3': 'answer3',\n",
    "        'question4': 'answer4',\n",
    "    },\n",
    "}\n",
    "```"
   ]
  },
  {
   "cell_type": "code",
   "execution_count": 2,
   "metadata": {},
   "outputs": [],
   "source": [
    "my_dict = {\n",
    "    'person1': {\n",
    "        'What is your favorite color?': 'grey',\n",
    "        'What is your favorite breed of dog?': 'Shepski',\n",
    "        'What is your favorite cuisine?': 'Korean',\n",
    "        'What is your favorite animal?': 'wrasse',\n",
    "    },\n",
    "    'person2': {\n",
    "        'What is your favorite color?': 'lilac',\n",
    "        'What is your favorite breed of dog?': 'NA',\n",
    "        'What is your favorite cuisine?': 'Mexican',\n",
    "        'What is your favorite animal?': 'Horse',\n",
    "    },\n",
    "    'person3': {\n",
    "         'What is your favorite color?': 'blue',\n",
    "        'What is your favorite breed of dog?': 'border collie',\n",
    "        'What is your favorite cuisine?': 'Indian',\n",
    "        'What is your favorite animal?': 'duck',\n",
    "    },\n",
    "}"
   ]
  },
  {
   "cell_type": "markdown",
   "metadata": {},
   "source": [
    "## Dictionary to dataframe\n",
    "\n",
    "Now that you have a dictionary, you can convert it to a dataframe.\n",
    "\n",
    "### Convert your dictionary to a dataframe\n",
    "\n",
    "Use the `pd.DataFrame()` function to convert your dictionary to a dataframe.\n",
    "\n",
    "```python\n",
    "import pandas as pd\n",
    "\n",
    "# Convert a dictionary to a dataframe\n",
    "df = pd.DataFrame(my_dict)\n",
    "```\n"
   ]
  },
  {
   "cell_type": "code",
   "execution_count": 6,
   "metadata": {},
   "outputs": [],
   "source": [
    "import pandas as pd \n",
    "d_f = pd.DataFrame(my_dict)"
   ]
  },
  {
   "cell_type": "markdown",
   "metadata": {},
   "source": [
    "\n",
    "### Investigate your dataframe using the following functions:\n",
    "\n",
    "- `df.head()`\n",
    "- `df.tail()`\n",
    "- `df.info()`\n",
    "\n"
   ]
  },
  {
   "cell_type": "code",
   "execution_count": 10,
   "metadata": {},
   "outputs": [
    {
     "name": "stdout",
     "output_type": "stream",
     "text": [
      "<class 'pandas.core.frame.DataFrame'>\n",
      "Index: 4 entries, What is your favorite color? to What is your favorite animal?\n",
      "Data columns (total 3 columns):\n",
      " #   Column   Non-Null Count  Dtype \n",
      "---  ------   --------------  ----- \n",
      " 0   person1  4 non-null      object\n",
      " 1   person2  4 non-null      object\n",
      " 2   person3  4 non-null      object\n",
      "dtypes: object(3)\n",
      "memory usage: 128.0+ bytes\n"
     ]
    }
   ],
   "source": [
    "import pandas as pd\n",
    "\n",
    "d_f.head()\n",
    "d_f.tail()\n",
    "d_f.info()"
   ]
  },
  {
   "cell_type": "markdown",
   "metadata": {},
   "source": [
    "Is your dataframe what you expected? If not, what is different? Why?? How would you need to change your data structure to get the dataframe you expected?"
   ]
  },
  {
   "cell_type": "code",
   "execution_count": null,
   "metadata": {},
   "outputs": [],
   "source": []
  },
  {
   "cell_type": "markdown",
   "metadata": {},
   "source": [
    "\n",
    "\n",
    "`df.transpose()` might be helpful here. What does it do?\n",
    "create a new dataframe that is a transposed version of your original dataframe.\n",
    "\n",
    "```python\n",
    "# Transpose a dataframe\n",
    "df_transposed = df.transpose()\n",
    "```"
   ]
  },
  {
   "cell_type": "code",
   "execution_count": 13,
   "metadata": {},
   "outputs": [],
   "source": [
    "# Transpose your dataframe so that the people are the rows and the questions are the columns.\n",
    "\n",
    "df_transposed = d_f.transpose()"
   ]
  },
  {
   "cell_type": "markdown",
   "metadata": {},
   "source": [
    "### Visualize/summarize your dataframe using one or more of the following functions:\n",
    "\n",
    "- `df.describe()`\n",
    "- `df.plot()`\n",
    "- `df.hist()`"
   ]
  },
  {
   "cell_type": "code",
   "execution_count": 19,
   "metadata": {},
   "outputs": [
    {
     "data": {
      "text/html": [
       "<div>\n",
       "<style scoped>\n",
       "    .dataframe tbody tr th:only-of-type {\n",
       "        vertical-align: middle;\n",
       "    }\n",
       "\n",
       "    .dataframe tbody tr th {\n",
       "        vertical-align: top;\n",
       "    }\n",
       "\n",
       "    .dataframe thead th {\n",
       "        text-align: right;\n",
       "    }\n",
       "</style>\n",
       "<table border=\"1\" class=\"dataframe\">\n",
       "  <thead>\n",
       "    <tr style=\"text-align: right;\">\n",
       "      <th></th>\n",
       "      <th>What is your favorite color?</th>\n",
       "      <th>What is your favorite breed of dog?</th>\n",
       "      <th>What is your favorite cuisine?</th>\n",
       "      <th>What is your favorite animal?</th>\n",
       "    </tr>\n",
       "  </thead>\n",
       "  <tbody>\n",
       "    <tr>\n",
       "      <th>count</th>\n",
       "      <td>3</td>\n",
       "      <td>3</td>\n",
       "      <td>3</td>\n",
       "      <td>3</td>\n",
       "    </tr>\n",
       "    <tr>\n",
       "      <th>unique</th>\n",
       "      <td>3</td>\n",
       "      <td>3</td>\n",
       "      <td>3</td>\n",
       "      <td>3</td>\n",
       "    </tr>\n",
       "    <tr>\n",
       "      <th>top</th>\n",
       "      <td>grey</td>\n",
       "      <td>Shepski</td>\n",
       "      <td>Korean</td>\n",
       "      <td>wrasse</td>\n",
       "    </tr>\n",
       "    <tr>\n",
       "      <th>freq</th>\n",
       "      <td>1</td>\n",
       "      <td>1</td>\n",
       "      <td>1</td>\n",
       "      <td>1</td>\n",
       "    </tr>\n",
       "  </tbody>\n",
       "</table>\n",
       "</div>"
      ],
      "text/plain": [
       "       What is your favorite color? What is your favorite breed of dog?  \\\n",
       "count                             3                                   3   \n",
       "unique                            3                                   3   \n",
       "top                            grey                             Shepski   \n",
       "freq                              1                                   1   \n",
       "\n",
       "       What is your favorite cuisine? What is your favorite animal?  \n",
       "count                               3                             3  \n",
       "unique                              3                             3  \n",
       "top                            Korean                        wrasse  \n",
       "freq                                1                             1  "
      ]
     },
     "execution_count": 19,
     "metadata": {},
     "output_type": "execute_result"
    }
   ],
   "source": [
    "df_transposed.describe()"
   ]
  },
  {
   "cell_type": "markdown",
   "metadata": {},
   "source": [
    "## 📚  <b> Practice 2. </b>\n",
    "\n",
    "### Structured data search: Find structured data on the internet and convert it to a dataframe.\n",
    "\n",
    "You're looking for data that is in a table format, like a spreadsheet, but not available as an easy to download `.csv` or `.excel` file. This turns out to describe a lot of data!\n",
    "\n",
    "Often you can find this kind of data on wikipedia, or on government websites, or in research articles that contain tables of results.\n"
   ]
  },
  {
   "cell_type": "code",
   "execution_count": 20,
   "metadata": {},
   "outputs": [
    {
     "data": {
      "text/html": [
       "<div>\n",
       "<style scoped>\n",
       "    .dataframe tbody tr th:only-of-type {\n",
       "        vertical-align: middle;\n",
       "    }\n",
       "\n",
       "    .dataframe tbody tr th {\n",
       "        vertical-align: top;\n",
       "    }\n",
       "\n",
       "    .dataframe thead th {\n",
       "        text-align: right;\n",
       "    }\n",
       "</style>\n",
       "<table border=\"1\" class=\"dataframe\">\n",
       "  <thead>\n",
       "    <tr style=\"text-align: right;\">\n",
       "      <th></th>\n",
       "      <th>Years</th>\n",
       "      <th>Country</th>\n",
       "      <th>Type of food</th>\n",
       "    </tr>\n",
       "  </thead>\n",
       "  <tbody>\n",
       "    <tr>\n",
       "      <th>0</th>\n",
       "      <td>1992</td>\n",
       "      <td>France</td>\n",
       "      <td>Undercooked</td>\n",
       "    </tr>\n",
       "    <tr>\n",
       "      <th>1</th>\n",
       "      <td>1994</td>\n",
       "      <td>South Korea</td>\n",
       "      <td>Uncooked pork</td>\n",
       "    </tr>\n",
       "    <tr>\n",
       "      <th>2</th>\n",
       "      <td>1994-95</td>\n",
       "      <td>Italy</td>\n",
       "      <td>Undercooked</td>\n",
       "    </tr>\n",
       "    <tr>\n",
       "      <th>3</th>\n",
       "      <td>2001</td>\n",
       "      <td>India</td>\n",
       "      <td>Contaminated water</td>\n",
       "    </tr>\n",
       "    <tr>\n",
       "      <th>4</th>\n",
       "      <td>2001</td>\n",
       "      <td>Brazil</td>\n",
       "      <td>Contaminated water</td>\n",
       "    </tr>\n",
       "    <tr>\n",
       "      <th>5</th>\n",
       "      <td>2002</td>\n",
       "      <td>Brazil</td>\n",
       "      <td>Ice cream w/ contaminated water</td>\n",
       "    </tr>\n",
       "    <tr>\n",
       "      <th>6</th>\n",
       "      <td>2004</td>\n",
       "      <td>India</td>\n",
       "      <td>Contaminated Water</td>\n",
       "    </tr>\n",
       "    <tr>\n",
       "      <th>7</th>\n",
       "      <td>1994-2004</td>\n",
       "      <td>USA</td>\n",
       "      <td>Contaminated Water</td>\n",
       "    </tr>\n",
       "    <tr>\n",
       "      <th>8</th>\n",
       "      <td>2005</td>\n",
       "      <td>Suriname</td>\n",
       "      <td>Contaminated Water</td>\n",
       "    </tr>\n",
       "    <tr>\n",
       "      <th>9</th>\n",
       "      <td>2006-2008</td>\n",
       "      <td>Polad</td>\n",
       "      <td>Fruits and vegetables</td>\n",
       "    </tr>\n",
       "    <tr>\n",
       "      <th>10</th>\n",
       "      <td>2009</td>\n",
       "      <td>Brazil</td>\n",
       "      <td>Fruits and vegetables</td>\n",
       "    </tr>\n",
       "    <tr>\n",
       "      <th>11</th>\n",
       "      <td>2009-2010</td>\n",
       "      <td>USA</td>\n",
       "      <td>Contaminated Water</td>\n",
       "    </tr>\n",
       "  </tbody>\n",
       "</table>\n",
       "</div>"
      ],
      "text/plain": [
       "        Years      Country                     Type of food\n",
       "0        1992       France                      Undercooked\n",
       "1        1994  South Korea                    Uncooked pork\n",
       "2     1994-95        Italy                      Undercooked\n",
       "3        2001        India               Contaminated water\n",
       "4        2001       Brazil               Contaminated water\n",
       "5        2002       Brazil  Ice cream w/ contaminated water\n",
       "6        2004        India               Contaminated Water\n",
       "7   1994-2004          USA               Contaminated Water\n",
       "8        2005     Suriname               Contaminated Water\n",
       "9   2006-2008        Polad            Fruits and vegetables\n",
       "10       2009       Brazil            Fruits and vegetables\n",
       "11  2009-2010          USA               Contaminated Water"
      ]
     },
     "execution_count": 20,
     "metadata": {},
     "output_type": "execute_result"
    }
   ],
   "source": [
    "import pandas as pd\n",
    "  \n",
    "# initialize list of lists\n",
    "data = [['1992', 'France', 'Undercooked'], \n",
    "        ['1994', 'South Korea', 'Uncooked pork'], \n",
    "        ['1994-95', 'Italy', 'Undercooked'],\n",
    "        ['2001', 'India', 'Contaminated water'],\n",
    "        ['2001', 'Brazil', 'Contaminated water'],\n",
    "        ['2002', 'Brazil', 'Ice cream w/ contaminated water'],\n",
    "        ['2004', 'India', 'Contaminated Water'],\n",
    "        ['1994-2004', 'USA', 'Contaminated Water'],\n",
    "        ['2005', 'Suriname', 'Contaminated Water'],\n",
    "        ['2006-2008', 'Polad', 'Fruits and vegetables'],\n",
    "        ['2009', 'Brazil', 'Fruits and vegetables'],\n",
    "        ['2009-2010', 'USA', 'Contaminated Water']\n",
    "        ]\n",
    "  \n",
    "# Create the pandas DataFrame\n",
    "df = pd.DataFrame(data, columns=['Years', 'Country', 'Type of food'])\n",
    "  \n",
    "# print dataframe.\n",
    "df"
   ]
  },
  {
   "cell_type": "markdown",
   "metadata": {},
   "source": [
    "### Convert your data to a dataframe"
   ]
  },
  {
   "cell_type": "markdown",
   "metadata": {},
   "source": [
    "## Explore your dataframe using the following functions:\n",
    "\n",
    "- `df.describe()`\n",
    "- `df.plot()`\n",
    "- `df.hist()`"
   ]
  },
  {
   "cell_type": "code",
   "execution_count": 36,
   "metadata": {},
   "outputs": [
    {
     "data": {
      "image/png": "[encoded data removed]",
      "text/plain": [
       "<Figure size 640x480 with 1 Axes>"
      ]
     },
     "metadata": {},
     "output_type": "display_data"
    }
   ],
   "source": [
    "\n",
    "# scatter plot\n",
    "df.plot(kind='scatter',\n",
    "        x='Country',\n",
    "        y='Years',\n",
    "        color='red')\n",
    "\n",
    "# set the title\n",
    "plt.title('ScatterPlot')\n",
    "\n",
    "# show the plot\n",
    "plt.show()"
   ]
  }
 ],
 "metadata": {
  "kernelspec": {
   "display_name": "Python 3",
   "language": "python",
   "name": "python3"
  },
  "language_info": {
   "codemirror_mode": {
    "name": "ipython",
    "version": 3
   },
   "file_extension": ".py",
   "mimetype": "text/x-python",
   "name": "python",
   "nbconvert_exporter": "python",
   "pygments_lexer": "ipython3",
   "version": "3.10.12"
  }
 },
 "nbformat": 4,
 "nbformat_minor": 4
}
